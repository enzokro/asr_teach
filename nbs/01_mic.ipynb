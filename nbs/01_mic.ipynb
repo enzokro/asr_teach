{
 "cells": [
  {
   "cell_type": "code",
   "execution_count": null,
   "metadata": {},
   "outputs": [],
   "source": [
    "#|default_exp mic"
   ]
  },
  {
   "cell_type": "markdown",
   "metadata": {},
   "source": [
    "# Mic streaming and recording"
   ]
  },
  {
   "cell_type": "code",
   "execution_count": null,
   "metadata": {},
   "outputs": [],
   "source": [
    "#| export\n",
    "import sys\n",
    "import zmq\n",
    "import sounddevice as sd"
   ]
  },
  {
   "cell_type": "code",
   "execution_count": null,
   "metadata": {},
   "outputs": [],
   "source": [
    "#| export \n",
    "from asr_teach.utils import ZMQ_ARGS, PROTOCOL, ADDR, PORT"
   ]
  },
  {
   "cell_type": "code",
   "execution_count": null,
   "metadata": {},
   "outputs": [],
   "source": [
    "#| export\n",
    "\n",
    "class MicStream:\n",
    "    def __init__(self,\n",
    "                 sample_rate: float = None,\n",
    "                 device: int = 0,\n",
    "                 block_duration: int = 50,\n",
    "                 addr: str = ADDR,\n",
    "                 port: int = PORT,\n",
    "                 protocol: str = PROTOCOL):\n",
    "        \n",
    "        # create the socket\n",
    "        context = context or zmq.Context()\n",
    "        socket = context.socket(zmq.PUSH)\n",
    "        socket.bind(f'{protocol}://{addr}:{port}')\n",
    "        self.socket = socket\n",
    "\n",
    "        # set the sample rate\n",
    "        sample_rate = sample_rate or  sd.query_devices(device, 'input')['default_samplerate']\n",
    "\n",
    "        def callback(indata, frames, time, status):\n",
    "            '''Sends a numpy array over a zmq port.\n",
    "            '''\n",
    "            if any(indata):\n",
    "                # sends the first message with array shape and data type\n",
    "                md = {'dtype': str(indata.dtype),\n",
    "                      'shape': indata.shape}\n",
    "                socket.send_json(md, zmq.SNDMORE)\n",
    "                # sends the array data\n",
    "                socket.send(indata, flags, copy=copy, track=track)\n",
    "        \n",
    "        # create the microphone streaming object\n",
    "        self.stream = sd.InputStream(device=device,\n",
    "                                     channels=1,\n",
    "                                     callback=callback,\n",
    "                                     blocksize=int(sample_rate * block_duration / 1000),\n",
    "                                     samplerate=sample_rate)\n",
    "        self.stream = stream\n",
    "        \n",
    "    def run(self):\n",
    "        '''Streams audio until the user stops or interrupts the process.\n",
    "        '''\n",
    "        try:\n",
    "            # start streaming with context manager\n",
    "            with self.stream:\n",
    "                while True:\n",
    "                    \n",
    "                    # monitor for user interrupts\n",
    "                    response = input()\n",
    "                    if response in ('', 'q', 'Q'):\n",
    "                        break\n",
    "\n",
    "        except KeyboardInterrupt:\n",
    "            print('User set keyboard interrupt.')\n",
    "            sys.exit(0)\n",
    "        except Exception as e:\n",
    "            print(f'Exception: {e}')\n",
    "            raise\n"
   ]
  }
 ],
 "metadata": {
  "kernelspec": {
   "display_name": "Python 3 (ipykernel)",
   "language": "python",
   "name": "python3"
  }
 },
 "nbformat": 4,
 "nbformat_minor": 2
}
