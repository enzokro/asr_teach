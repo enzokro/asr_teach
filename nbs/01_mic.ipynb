{
 "cells": [
  {
   "cell_type": "code",
   "execution_count": null,
   "metadata": {},
   "outputs": [],
   "source": [
    "#|default_exp mic"
   ]
  },
  {
   "cell_type": "markdown",
   "metadata": {},
   "source": [
    "# Mic streaming and recording"
   ]
  },
  {
   "cell_type": "code",
   "execution_count": null,
   "metadata": {},
   "outputs": [],
   "source": [
    "#| export\n",
    "import sys \n",
    "import queue\n",
    "\n",
    "import zmq\n",
    "import fire\n",
    "import sounddevice as sd"
   ]
  },
  {
   "cell_type": "code",
   "execution_count": null,
   "metadata": {},
   "outputs": [],
   "source": [
    "#| export \n",
    "from asr_teach.utils import SAMPLE_RATE, DEVICE, BLOCK_DURATION, DTYPE\n",
    "from asr_teach.utils import ZMQ_ARGS, PROTOCOL, ADDR, PORT"
   ]
  },
  {
   "cell_type": "code",
   "execution_count": null,
   "metadata": {},
   "outputs": [],
   "source": [
    "#| export\n",
    "\n",
    "class MicStream:\n",
    "    def __init__(self,\n",
    "                 sample_rate: float = None,\n",
    "                 device: int = 0,\n",
    "                 block_duration: int = 2500,\n",
    "                 dtype: str = DTYPE,\n",
    "                 addr: str = ADDR,\n",
    "                 port: int = PORT,\n",
    "                 protocol: str = PROTOCOL,\n",
    "                 context=None,\n",
    "                 q=None):\n",
    "        \n",
    "        # create the socket\n",
    "        context = context or zmq.Context()\n",
    "        socket = context.socket(zmq.PUSH)\n",
    "        socket.bind(f'{protocol}://{addr}:{port}')\n",
    "        self.socket = socket\n",
    "        \n",
    "        # queue to send over the data\n",
    "        self.q = q or queue.Queue()\n",
    "\n",
    "        # set the sample rate\n",
    "        self.sample_rate = sample_rate or sd.query_devices(device, 'input')['default_samplerate']\n",
    "        self.num_samples = int(sample_rate * block_duration)\n",
    "\n",
    "        def callback(indata, frames, time, status):\n",
    "            '''Places audio data on the queue for sending over zmq port.\n",
    "            '''\n",
    "            if any(indata):\n",
    "                self.q.put(indata)\n",
    "        \n",
    "        # create the microphone streaming object\n",
    "        self.stream = sd.InputStream(device=device,\n",
    "                                     channels=1,\n",
    "                                     callback=callback,\n",
    "                                     dtype=dtype,\n",
    "                                     blocksize=self.num_samples // 1000,\n",
    "                                     samplerate=sample_rate)\n",
    "        \n",
    "    def send_audio(self, indata, flags=0, copy=True, track=False):\n",
    "        '''Sends the first message with array shape and data type.\n",
    "        '''\n",
    "        md = {'dtype': str(indata.dtype),\n",
    "              'shape': indata.shape}\n",
    "        self.socket.send_json(md, zmq.SNDMORE)\n",
    "        # sends the array data\n",
    "        self.socket.send(indata, flags, copy=copy, track=track)\n",
    "        \n",
    "        \n",
    "    def run(self):\n",
    "        '''Streams audio until the user stops or interrupts the process.\n",
    "        '''\n",
    "        # start streaming with context manager\n",
    "        self.stream.start()\n",
    "        while True:\n",
    "            try:\n",
    "                if not self.q.empty():\n",
    "                    self.send_audio(self.q.get())\n",
    "            except KeyboardInterrupt:\n",
    "                print('User keyboard interrupt.')\n",
    "                print('stopping stream')\n",
    "                self.stream.close()\n",
    "                break\n",
    "                print('stream stopped')\n",
    "            except Exception as e:\n",
    "                print(f'Exception: {e}')\n",
    "                raise\n",
    "            \n",
    "#         try:\n",
    "#             # start streaming with context manager\n",
    "#             with self.stream:\n",
    "#                 sd.wait(self.num_samples)\n",
    "#         except KeyboardInterrupt:\n",
    "#             print('User set keyboard interrupt.')\n",
    "#             sys.exit(0)\n",
    "#         except Exception as e:\n",
    "#             print(f'Exception: {e}')\n",
    "#             raise"
   ]
  },
  {
   "cell_type": "code",
   "execution_count": null,
   "metadata": {},
   "outputs": [],
   "source": [
    "#| export\n",
    "\n",
    "def stream(sample_rate: float = SAMPLE_RATE,\n",
    "           device: int = DEVICE,\n",
    "           block_duration: int = BLOCK_DURATION,\n",
    "           **kwargs):\n",
    "    '''Entrypoint for live microphone streaming over a port.\n",
    "    '''\n",
    "    # create and start the microphone stream\n",
    "    mic = MicStream(sample_rate, device, block_duration, **kwargs)\n",
    "    mic.run()"
   ]
  }
 ],
 "metadata": {
  "kernelspec": {
   "display_name": "Python 3 (ipykernel)",
   "language": "python",
   "name": "python3"
  }
 },
 "nbformat": 4,
 "nbformat_minor": 2
}
