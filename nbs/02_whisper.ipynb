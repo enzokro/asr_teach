{
 "cells": [
  {
   "cell_type": "markdown",
   "metadata": {},
   "source": [
    "# Example of loading and running a Whisper model "
   ]
  },
  {
   "cell_type": "code",
   "execution_count": null,
   "metadata": {},
   "outputs": [],
   "source": [
    "import whisper"
   ]
  },
  {
   "cell_type": "code",
   "execution_count": null,
   "metadata": {},
   "outputs": [],
   "source": [
    "model = whisper.load_model(\"base\")"
   ]
  },
  {
   "cell_type": "code",
   "execution_count": null,
   "metadata": {},
   "outputs": [
    {
     "name": "stderr",
     "output_type": "stream",
     "text": [
      "/Users/enzokro/opt/anaconda3/envs/whisper_asr/lib/python3.9/site-packages/whisper/transcribe.py:79: UserWarning: FP16 is not supported on CPU; using FP32 instead\n",
      "  warnings.warn(\"FP16 is not supported on CPU; using FP32 instead\")\n"
     ]
    }
   ],
   "source": [
    "fid = 'audio.mp3' # NOTE: point to a valid mp3 or wav file\n",
    "result = model.transcribe(fid)"
   ]
  },
  {
   "cell_type": "code",
   "execution_count": null,
   "metadata": {},
   "outputs": [
    {
     "data": {
      "text/plain": [
       "{'text': ' prueba un 2 3 esto va a ser un archivo para prueba con el sistema andale andale',\n",
       " 'segments': [{'id': 0,\n",
       "   'seek': 0,\n",
       "   'start': 0.0,\n",
       "   'end': 8.68,\n",
       "   'text': ' prueba un 2 3 esto va a ser un archivo para prueba con el sistema andale andale',\n",
       "   'tokens': [50364,\n",
       "    48241,\n",
       "    517,\n",
       "    568,\n",
       "    805,\n",
       "    7433,\n",
       "    2773,\n",
       "    257,\n",
       "    816,\n",
       "    517,\n",
       "    3912,\n",
       "    6340,\n",
       "    1690,\n",
       "    48241,\n",
       "    416,\n",
       "    806,\n",
       "    13245,\n",
       "    293,\n",
       "    1220,\n",
       "    293,\n",
       "    1220,\n",
       "    50798],\n",
       "   'temperature': 0.0,\n",
       "   'avg_logprob': -0.3871889943661897,\n",
       "   'compression_ratio': 1.1285714285714286,\n",
       "   'no_speech_prob': 0.1125478446483612}],\n",
       " 'language': 'es'}"
      ]
     },
     "execution_count": null,
     "metadata": {},
     "output_type": "execute_result"
    }
   ],
   "source": [
    "# view the parsed output\n",
    "result"
   ]
  }
 ],
 "metadata": {
  "kernelspec": {
   "display_name": "Python 3 (ipykernel)",
   "language": "python",
   "name": "python3"
  }
 },
 "nbformat": 4,
 "nbformat_minor": 2
}
