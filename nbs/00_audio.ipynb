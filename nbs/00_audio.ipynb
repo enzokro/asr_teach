{
 "cells": [
  {
   "cell_type": "code",
   "execution_count": null,
   "metadata": {},
   "outputs": [],
   "source": [
    "#|default_exp audio"
   ]
  },
  {
   "cell_type": "markdown",
   "metadata": {},
   "source": [
    "# Audio buffer classes and helpers"
   ]
  },
  {
   "cell_type": "code",
   "execution_count": null,
   "metadata": {},
   "outputs": [],
   "source": [
    "#| export\n",
    "import numpy as np"
   ]
  },
  {
   "cell_type": "code",
   "execution_count": null,
   "metadata": {},
   "outputs": [],
   "source": [
    "#| export\n",
    "from asr_teach.utils import SAMPLE_RATE, BUFFER_SECONDS, DTYPE"
   ]
  },
  {
   "cell_type": "code",
   "execution_count": null,
   "metadata": {},
   "outputs": [],
   "source": [
    "#| export\n",
    "\n",
    "class AudioBuffer:\n",
    "    '''Buffers a numpy array of audio streaming from a socket.\n",
    "    '''\n",
    "    def __init__(self,\n",
    "                 size=SAMPLE_RATE * BUFFER_SECONDS, \n",
    "                 dtype=DTYPE):\n",
    "        \n",
    "        # initialize the buffer\n",
    "        self.size = size\n",
    "        self.data = []#np.zeros(size, dtype=dtype)\n",
    "        \n",
    "        # head for data buffer\n",
    "        self.ptr = 0 \n",
    "        # holds leftover samples\n",
    "        self.rem = None \n",
    "        # flag for whether the buffer is full\n",
    "        self.is_full = False \n",
    "\n",
    "        \n",
    "    def accumulate(self, data: np.ndarray):\n",
    "        '''Reads in and buffers the incoming `data`.\n",
    "        '''\n",
    "        # number of incoming samples\n",
    "        num_samples = len(data)\n",
    "        \n",
    "        if len(self.data) >= self.size:\n",
    "            self.is_full = True\n",
    "            self.rem = self.data[self.size:]\n",
    "            self.data = self.data[:self.size]\n",
    "        else:\n",
    "            self.data.extend(data)\n",
    "        \n",
    "#         # handle buffer overflow\n",
    "#         if self.ptr + num_samples >= self.size:\n",
    "\n",
    "#             # flag the buffer as full\n",
    "#             self.is_full = True\n",
    "\n",
    "#             # store the leftover samples\n",
    "#             valid = self.size - self.ptr\n",
    "#             self.data[self.ptr:] = data[:valid]\n",
    "#             self.rem = data[valid:]\n",
    "        \n",
    "#         # buffer in the data\n",
    "#         else:\n",
    "#             self.data[self.ptr: self.ptr + num_samples] = data\n",
    "#             self.ptr += num_samples\n",
    "\n",
    "            \n",
    "    def get_data(self):\n",
    "        '''Gets the data buffer.\n",
    "        '''\n",
    "        return self.data\n",
    "    \n",
    "    \n",
    "    def reset(self):\n",
    "        '''Resets buffer head for new, incoming data.\n",
    "        '''\n",
    "        self.ptr = 0\n",
    "        self.is_full = False\n",
    "        self.data = []\n",
    "\n",
    "        \n",
    "    def flush(self):\n",
    "        '''Puts remainder data on the buffer and moves the head forward.\n",
    "        '''\n",
    "        if self.rem:\n",
    "            rem_sz = len(self.rem)\n",
    "            self.data[:rem_sz] = self.rem\n",
    "            self.ptr += rem_sz\n",
    "            self.rem = None"
   ]
  }
 ],
 "metadata": {
  "kernelspec": {
   "display_name": "Python 3 (ipykernel)",
   "language": "python",
   "name": "python3"
  }
 },
 "nbformat": 4,
 "nbformat_minor": 2
}
