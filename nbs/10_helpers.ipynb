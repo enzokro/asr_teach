{
 "cells": [
  {
   "cell_type": "code",
   "execution_count": null,
   "metadata": {},
   "outputs": [],
   "source": [
    "#| default_exp utils"
   ]
  },
  {
   "cell_type": "code",
   "execution_count": null,
   "metadata": {},
   "outputs": [],
   "source": [
    "#| export  \n",
    "\n",
    "# default mic streaming args\n",
    "PROTOCOL = 'tcp'\n",
    "ADDR = '127.0.0.1'\n",
    "PORT = 9090\n",
    "\n",
    "# for sending over arrays\n",
    "ZMQ_ARGS = {\n",
    "    'flags': 0,\n",
    "    'copy': True,\n",
    "    'track': False,\n",
    "}\n"
   ]
  }
 ],
 "metadata": {
  "kernelspec": {
   "display_name": "Python 3 (ipykernel)",
   "language": "python",
   "name": "python3"
  }
 },
 "nbformat": 4,
 "nbformat_minor": 2
}
