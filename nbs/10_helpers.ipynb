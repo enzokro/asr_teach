{
 "cells": [
  {
   "cell_type": "code",
   "execution_count": null,
   "metadata": {},
   "outputs": [],
   "source": [
    "#| default_exp utils"
   ]
  },
  {
   "cell_type": "code",
   "execution_count": null,
   "metadata": {},
   "outputs": [],
   "source": [
    "#| export \n",
    "import numpy as np"
   ]
  },
  {
   "cell_type": "code",
   "execution_count": null,
   "metadata": {},
   "outputs": [],
   "source": [
    "#| export  \n",
    "\n",
    "# audio constants\n",
    "SAMPLE_RATE = 48_000\n",
    "BUFFER_SECONDS = 2\n",
    "DTYPE = np.float32\n",
    "DEVICE = 0\n",
    "BLOCK_DURATION = 50\n",
    "\n",
    "\n",
    "# default port streaming args\n",
    "PROTOCOL = 'tcp'\n",
    "ADDR = '127.0.0.1'\n",
    "PORT = 9090\n",
    "\n",
    "\n",
    "# for sending over arrays\n",
    "ZMQ_ARGS = {\n",
    "    'flags': 0,\n",
    "    'copy': True,\n",
    "    'track': False,\n",
    "}"
   ]
  }
 ],
 "metadata": {
  "kernelspec": {
   "display_name": "Python 3 (ipykernel)",
   "language": "python",
   "name": "python3"
  }
 },
 "nbformat": 4,
 "nbformat_minor": 2
}
