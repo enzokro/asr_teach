{
 "cells": [
  {
   "cell_type": "code",
   "execution_count": null,
   "metadata": {},
   "outputs": [],
   "source": [
    "#| default_exp server"
   ]
  },
  {
   "cell_type": "markdown",
   "metadata": {},
   "source": [
    "# Whisper server"
   ]
  },
  {
   "cell_type": "markdown",
   "metadata": {},
   "source": [
    "Runs a Whisper server that receives and transcribes incoming audio.  "
   ]
  },
  {
   "cell_type": "markdown",
   "metadata": {},
   "source": [
    "First we import the python modules.  "
   ]
  },
  {
   "cell_type": "code",
   "execution_count": null,
   "metadata": {},
   "outputs": [],
   "source": [
    "#| export\n",
    "import sys\n",
    "\n",
    "import zmq\n",
    "import numpy as np\n",
    "from fastcore.basics import store_attr\n",
    "\n",
    "import whisper"
   ]
  },
  {
   "cell_type": "markdown",
   "metadata": {},
   "source": [
    "Then we import the `asr_teach` modules."
   ]
  },
  {
   "cell_type": "code",
   "execution_count": null,
   "metadata": {},
   "outputs": [],
   "source": [
    "#| export\n",
    "from asr_teach.audio import AudioBuffer\n",
    "from asr_teach.utils import ZMQ_ARGS, PROTOCOL, ADDR, PORT"
   ]
  },
  {
   "cell_type": "markdown",
   "metadata": {},
   "source": [
    "## Helper functions  \n",
    "\n",
    "Below we define a couple of helper functions. "
   ]
  },
  {
   "cell_type": "markdown",
   "metadata": {},
   "source": [
    "First, the `recv_array` receives a numpy array over a given socket as a two-part message. The first part of the message has the data type and shape of the incoming array. The second part of the array has the raw array bytes. Both messages are used to deserialize the correct numpy array. One final note: the incoming audio is almost always in Short Int format (np.int16). Whisper expects normalized float32 data, so we cast and normalize the int16 data if needed."
   ]
  },
  {
   "cell_type": "code",
   "execution_count": null,
   "metadata": {},
   "outputs": [],
   "source": [
    "#| export \n",
    "\n",
    "def recv_array(socket, flags=0, copy=True, track=False, scale=32768.0):\n",
    "    '''Receives a numpy array over `socket`.\n",
    "    \n",
    "    Assumes a two-part message:\n",
    "        First message has the array data-type and shape.\n",
    "        Second message has the raw array bytes. \n",
    "        \n",
    "    Returns the appropriately cast and reshaped numpy array. \n",
    "    '''\n",
    "    # receive the array shape and type\n",
    "    md = socket.recv_json(flags=flags)\n",
    "    # receive the array bytes \n",
    "    msg = socket.recv(flags=flags, copy=copy, track=track)\n",
    "    buf = memoryview(msg)\n",
    "    # convert bytes into a flat audio array\n",
    "    arr = np.frombuffer(buf, dtype=md['dtype']).reshape(md['shape']).squeeze()\n",
    "    # make sure that whisper gets normalized float32 data\n",
    "    if md['dtype'] == 'int16':\n",
    "        arr = arr.astype(np.float32) / scale\n",
    "    return arr"
   ]
  },
  {
   "cell_type": "markdown",
   "metadata": {},
   "source": [
    "The `parse_transcription` function extracts some useful fields from the full output of Whisper's `transcribe` method. It is mainly for convenient re-naming of a few variables. "
   ]
  },
  {
   "cell_type": "code",
   "execution_count": null,
   "metadata": {},
   "outputs": [],
   "source": [
    "#| export\n",
    "def parse_transcription(result):\n",
    "    '''Extracts helpful fields from the output of whisper's `transcribe`.\n",
    "    \n",
    "    Information parsed for each segment:\n",
    "        - The transcribed text.  \n",
    "        - Start and stop times of the segment in seconds.  \n",
    "        - Log probability of the transcription.  \n",
    "        - Probability that the segment had no speech.  \n",
    "    '''\n",
    "    parsed = []\n",
    "    for seg in result['segments']:\n",
    "        info = {'text': seg['text'],\n",
    "                'beg': seg['start'],\n",
    "                'end': seg['end'],\n",
    "                'logprob': seg['avg_logprob'],\n",
    "                'no_speech_prob': seg['no_speech_prob']}\n",
    "        parsed.append(info)\n",
    "    return parsed"
   ]
  },
  {
   "cell_type": "code",
   "execution_count": null,
   "metadata": {},
   "outputs": [],
   "source": [
    "#| export\n",
    "\n",
    "class WhisperServer:\n",
    "    '''Runs a whisper model on audio streaming over a port.\n",
    "    \n",
    "    TODO: proper logging\n",
    "    '''\n",
    "    def __init__(self,\n",
    "                 buffer_size: int = 16_000,\n",
    "                 model_name: str = 'small',\n",
    "                 threshold: float = 0.,\n",
    "                 protocol: str = PROTOCOL,\n",
    "                 addr: str = ADDR,\n",
    "                 port: int = PORT):\n",
    "        store_attr()\n",
    "        \n",
    "        # create the socket to receive streaming audio\n",
    "        context = zmq.Context()\n",
    "        socket = context.socket(zmq.PULL)\n",
    "        socket.connect(f'{protocol}://{addr}:{port}')\n",
    "        self.socket = socket\n",
    "        \n",
    "        # load the whisper model\n",
    "        self.model_name = model_name\n",
    "        self.model = whisper.load_model(model_name)\n",
    "        \n",
    "        \n",
    "    def recv_data(self, zmq_args=ZMQ_ARGS):\n",
    "        '''Reads in audio array from `self.socket`.\n",
    "        '''\n",
    "        arr = recv_array(self.socket, **zmq_args)\n",
    "        return arr\n",
    "\n",
    "    \n",
    "    def transcribe(self):\n",
    "        '''Runs whisper trascription on the full audio buffer.\n",
    "        '''\n",
    "        # get the data over the socket\n",
    "        print('Waiting for audio...')\n",
    "        data = self.recv_data()\n",
    "        print('Audio received.')\n",
    "        \n",
    "        # pad it for whisper\n",
    "        # TODO: insert data into pre-buffered 30-second Whisper window\n",
    "        audio = whisper.pad_or_trim(data)\n",
    "        \n",
    "        # transcribe the audio and parse the results\n",
    "        print('Parsing audio...')\n",
    "        result = self.model.transcribe(audio)\n",
    "        parsed = parse_transcription(result)\n",
    "        print('Audio parsed')\n",
    "        \n",
    "        # TODO: transcribed text shown on simple GUI\n",
    "        # TODO: simple thresholding to avoid garbage transcriptions\n",
    "        print('\\n'.join(seg['text'] for seg in parsed if seg['logprob'] > -0.9))\n",
    "        print('\\n'.join(str(seg['logprob']) for seg in parsed))\n",
    "\n",
    "         \n",
    "    def run(self):\n",
    "        '''Main server function.\n",
    "        \n",
    "        TODO: catch stopping signals (SIGINT, SIGTERM)\n",
    "        '''\n",
    "        print('Starting server...')\n",
    "        while True:\n",
    "            try:\n",
    "                self.transcribe()\n",
    "\n",
    "            except KeyboardInterrupt:\n",
    "                print('User interrupt, stopping server...')\n",
    "                break\n",
    "                \n",
    "            except Exception as e:\n",
    "                print(f'Exception: {e}')\n",
    "                raise\n",
    "        print('Server stopped')\n"
   ]
  }
 ],
 "metadata": {
  "kernelspec": {
   "display_name": "Python 3 (ipykernel)",
   "language": "python",
   "name": "python3"
  }
 },
 "nbformat": 4,
 "nbformat_minor": 4
}
